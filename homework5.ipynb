{
 "cells": [
  {
   "cell_type": "code",
   "execution_count": 99,
   "id": "374916a2-73ce-4c15-b09d-2339ba34d6f6",
   "metadata": {},
   "outputs": [],
   "source": [
    "# Problem 1:\n",
    "import numpy as np\n",
    "arr = np.array([[1,2,3], [5,9,7], [2,4,6], [7,7,7]])"
   ]
  },
  {
   "cell_type": "code",
   "execution_count": 100,
   "id": "581c176a-b615-4194-a57c-cd0b82b2bf4a",
   "metadata": {},
   "outputs": [],
   "source": [
    "def onlyOdd(arrays):\n",
    "    odd_rows = []\n",
    "    for row in arrays:\n",
    "        # Check if all values in the row are odd\n",
    "        if all(value % 2 != 0 for value in row):\n",
    "            odd_rows.append(row)\n",
    "    \n",
    "    return odd_rows\n"
   ]
  },
  {
   "cell_type": "code",
   "execution_count": 101,
   "id": "e041443e-ef04-416d-818b-043dac7dabe0",
   "metadata": {},
   "outputs": [
    {
     "name": "stdout",
     "output_type": "stream",
     "text": [
      "[array([5, 9, 7]), array([7, 7, 7])]\n"
     ]
    }
   ],
   "source": [
    "print(onlyOdd(arr))"
   ]
  },
  {
   "cell_type": "code",
   "execution_count": 102,
   "id": "2844991b-4d30-4410-b384-2f677021cc9d",
   "metadata": {},
   "outputs": [],
   "source": [
    "# Problem 2.1:\n",
    "def checkerboard():\n",
    "    checker = np.zeros((8,8), dtype = int)\n",
    "    print(checker)\n",
    "    "
   ]
  },
  {
   "cell_type": "code",
   "execution_count": 103,
   "id": "1899664f-cb48-4806-a683-2013c83355ec",
   "metadata": {},
   "outputs": [
    {
     "name": "stdout",
     "output_type": "stream",
     "text": [
      "[[0 0 0 0 0 0 0 0]\n",
      " [0 0 0 0 0 0 0 0]\n",
      " [0 0 0 0 0 0 0 0]\n",
      " [0 0 0 0 0 0 0 0]\n",
      " [0 0 0 0 0 0 0 0]\n",
      " [0 0 0 0 0 0 0 0]\n",
      " [0 0 0 0 0 0 0 0]\n",
      " [0 0 0 0 0 0 0 0]]\n"
     ]
    }
   ],
   "source": [
    "checkerboard()"
   ]
  },
  {
   "cell_type": "code",
   "execution_count": 104,
   "id": "b8cb3d32-0eff-4828-88d6-9e4b75340711",
   "metadata": {},
   "outputs": [],
   "source": [
    "# Problem 2.2:\n",
    "def checkerboard1():\n",
    "    checker = np.zeros((8,8), dtype = int)\n",
    "    checker[::2, ::2] = 1\n",
    "    print(checker)"
   ]
  },
  {
   "cell_type": "code",
   "execution_count": 105,
   "id": "1711143c-a40e-45f4-93b2-3cbaedf78fdc",
   "metadata": {},
   "outputs": [
    {
     "name": "stdout",
     "output_type": "stream",
     "text": [
      "[[1 0 1 0 1 0 1 0]\n",
      " [0 0 0 0 0 0 0 0]\n",
      " [1 0 1 0 1 0 1 0]\n",
      " [0 0 0 0 0 0 0 0]\n",
      " [1 0 1 0 1 0 1 0]\n",
      " [0 0 0 0 0 0 0 0]\n",
      " [1 0 1 0 1 0 1 0]\n",
      " [0 0 0 0 0 0 0 0]]\n"
     ]
    }
   ],
   "source": [
    "checkerboard1()"
   ]
  },
  {
   "cell_type": "code",
   "execution_count": 106,
   "id": "d7866c9d-9320-43d7-9cd9-5fe8d8f8e160",
   "metadata": {},
   "outputs": [],
   "source": [
    "# Problem 2.3:\n",
    "def checkerboard2():\n",
    "    checker = np.zeros((8,8), dtype = int)\n",
    "    checker[::2, ::2] = 1\n",
    "    checker[1::2, 1::2] = 1\n",
    "    print(checker)"
   ]
  },
  {
   "cell_type": "code",
   "execution_count": 107,
   "id": "d6d0157f-868b-44a3-944c-048df3fc1781",
   "metadata": {},
   "outputs": [
    {
     "name": "stdout",
     "output_type": "stream",
     "text": [
      "[[1 0 1 0 1 0 1 0]\n",
      " [0 1 0 1 0 1 0 1]\n",
      " [1 0 1 0 1 0 1 0]\n",
      " [0 1 0 1 0 1 0 1]\n",
      " [1 0 1 0 1 0 1 0]\n",
      " [0 1 0 1 0 1 0 1]\n",
      " [1 0 1 0 1 0 1 0]\n",
      " [0 1 0 1 0 1 0 1]]\n"
     ]
    }
   ],
   "source": [
    "checkerboard2()"
   ]
  },
  {
   "cell_type": "code",
   "execution_count": 108,
   "id": "07bd71fb-1dc0-4dcc-a0ef-c22de5ea0928",
   "metadata": {},
   "outputs": [],
   "source": [
    "# Problem 2.4:\n",
    "def reverse_checkerboard():\n",
    "    checker = np.zeros((8,8), dtype = int)\n",
    "    checker[1::2, ::2] = 1 # changes every alternate row starting from the 2nd row and every alternate column starting from the first column to 1\n",
    "    checker[::2, 1::2] = 1 # changes every alternate row starting from the first row and 2nd column to 1\n",
    "    print(checker)"
   ]
  },
  {
   "cell_type": "code",
   "execution_count": 109,
   "id": "ba2307d6-0548-4c0c-9d4a-e303022a1f46",
   "metadata": {},
   "outputs": [
    {
     "name": "stdout",
     "output_type": "stream",
     "text": [
      "[[0 1 0 1 0 1 0 1]\n",
      " [1 0 1 0 1 0 1 0]\n",
      " [0 1 0 1 0 1 0 1]\n",
      " [1 0 1 0 1 0 1 0]\n",
      " [0 1 0 1 0 1 0 1]\n",
      " [1 0 1 0 1 0 1 0]\n",
      " [0 1 0 1 0 1 0 1]\n",
      " [1 0 1 0 1 0 1 0]]\n"
     ]
    }
   ],
   "source": [
    "reverse_checkerboard()"
   ]
  },
  {
   "cell_type": "code",
   "execution_count": 110,
   "id": "a63c650b-4144-4b0b-a6fe-94ae9f5ab66e",
   "metadata": {},
   "outputs": [],
   "source": [
    "# Problem 3:\n",
    "universe = np.array(['galaxy', 'clusters'])\n",
    "def expansion(str, num):\n",
    "    num = int(num)\n",
    "    spc = \" \"\n",
    "    space = np.char.join(spc*num, str) # adds a specified character between each character in the string\n",
    "    print(space)"
   ]
  },
  {
   "cell_type": "code",
   "execution_count": 111,
   "id": "dd7df2c4-7aca-494b-85b9-044b32ca4953",
   "metadata": {},
   "outputs": [
    {
     "name": "stdout",
     "output_type": "stream",
     "text": [
      "['g a l a x y' 'c l u s t e r s']\n"
     ]
    }
   ],
   "source": [
    "expansion(universe, 1)"
   ]
  },
  {
   "cell_type": "code",
   "execution_count": 131,
   "id": "12a75130-f7c1-4c5d-996b-eafd5443094d",
   "metadata": {},
   "outputs": [
    {
     "name": "stdout",
     "output_type": "stream",
     "text": [
      "[[202 535 960 370 206]\n",
      " [171 800 120 714 221]\n",
      " [566 314 430 558 187]\n",
      " [472 199 971 763 230]\n",
      " [761 408 869 443 591]]\n"
     ]
    }
   ],
   "source": [
    "# Problem 4:\n",
    "np.random.seed(42)\n",
    "planets = np.random.randint(100, 1000, (5,5))\n",
    "print(planets)\n",
    "def secondLargest(system):\n",
    "    second_largest = []\n",
    "    # transpose the matrix:\n",
    "    system = system.T\n",
    "    #print(\"Transposed matrix:\\n\", system)\n",
    "    # now it will be easier to iterate through the rows to find the 2nd largest planet in each system:\n",
    "    for i in system:\n",
    "        i.sort()\n",
    "        second_largest.append(i[-2])\n",
    "    print(second_largest)"
   ]
  },
  {
   "cell_type": "code",
   "execution_count": 133,
   "id": "a8fe7b4d-9386-4db5-bb16-314316947e1a",
   "metadata": {},
   "outputs": [
    {
     "name": "stdout",
     "output_type": "stream",
     "text": [
      "[566, 535, 960, 714, 230]\n"
     ]
    }
   ],
   "source": [
    "secondLargest(planets)"
   ]
  },
  {
   "cell_type": "code",
   "execution_count": null,
   "id": "5f51b3c9-c3de-448e-94b3-0878c37db645",
   "metadata": {},
   "outputs": [],
   "source": []
  }
 ],
 "metadata": {
  "kernelspec": {
   "display_name": "Python 3 (ipykernel)",
   "language": "python",
   "name": "python3"
  },
  "language_info": {
   "codemirror_mode": {
    "name": "ipython",
    "version": 3
   },
   "file_extension": ".py",
   "mimetype": "text/x-python",
   "name": "python",
   "nbconvert_exporter": "python",
   "pygments_lexer": "ipython3",
   "version": "3.12.4"
  }
 },
 "nbformat": 4,
 "nbformat_minor": 5
}
